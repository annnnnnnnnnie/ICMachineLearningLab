{
 "cells": [
  {
   "cell_type": "markdown",
   "metadata": {
    "colab_type": "text",
    "id": "view-in-github"
   },
   "source": [
    "<a href=\"https://colab.research.google.com/github/annnnnnnnnnie/ICMachineLearningLab/blob/master/lab2.ipynb\" target=\"_parent\"><img src=\"https://colab.research.google.com/assets/colab-badge.svg\" alt=\"Open In Colab\"/></a>"
   ]
  },
  {
   "cell_type": "markdown",
   "metadata": {
    "id": "_MBmOdXoenFw"
   },
   "source": [
    "# Lab 2: K-Nearest Neighbours\n"
   ]
  },
  {
   "cell_type": "markdown",
   "metadata": {
    "id": "_3iS23ADfo4w"
   },
   "source": [
    "## Version history\n",
    "\n",
    "| Date | Author | Description |\n",
    "|:----:|:------:|:------------|\n",
    "2021-01-18 | Josiah Wang | First version | "
   ]
  },
  {
   "cell_type": "markdown",
   "metadata": {
    "id": "_EbbkgqOgZK_"
   },
   "source": [
    "## Introduction\n",
    "\n",
    "The aim of this lab exercise is to give you some practical experience to build a K-Nearest Neighbours (K-NN) classifier.\n",
    "\n",
    "By the end of this lab exercise, you will have constructed different variants of a K-NN classifier as discussed in the lectures."
   ]
  },
  {
   "cell_type": "markdown",
   "metadata": {
    "id": "k1PH_TJZhf-c"
   },
   "source": [
    "## The Iris dataset\n",
    "\n",
    "Continuing where we left off in Lab 1, we will again work with the Iris dataset.\n",
    "\n",
    "I will just copy and rerun my solutions from Lab 1. Feel free to copy your own implementations over."
   ]
  },
  {
   "cell_type": "code",
   "execution_count": 1,
   "metadata": {
    "colab": {
     "base_uri": "https://localhost:8080/"
    },
    "id": "NdL1OHXvifcA",
    "outputId": "45fe2360-1ff7-439c-ee5a-4a4e16cb4ddd"
   },
   "outputs": [
    {
     "name": "stdout",
     "output_type": "stream",
     "text": [
      "(120, 4)\n",
      "(30, 4)\n"
     ]
    }
   ],
   "source": [
    "import os\n",
    "import numpy as np\n",
    "from numpy.random import default_rng\n",
    "\n",
    "# Download iris data if it does not exist\n",
    "if not os.path.exists(\"iris.data\"):\n",
    "    !wget -O iris.data https: // archive.ics.uci.edu / ml / machine-learning-databases / iris / iris.data\n",
    "\n",
    "\n",
    "def read_dataset(filepath):\n",
    "    \"\"\" Read in the dataset from the specified filepath\n",
    "\n",
    "    Args:\n",
    "        filepath (str): The filepath to the dataset file\n",
    "\n",
    "    Returns:\n",
    "        tuple: returns a tuple of (x, y, classes), each being a numpy array. \n",
    "               - x is a numpy array with shape (N, K), \n",
    "                   where N is the number of instances\n",
    "                   K is the number of features/attributes\n",
    "               - y is a numpy array with shape (N, ), and should be integers from 0 to C-1\n",
    "                   where C is the number of classes \n",
    "               - classes : a numpy array with shape (C, ), which contains the \n",
    "                   unique class labels corresponding to the integers in y\n",
    "    \"\"\"\n",
    "\n",
    "    x = []\n",
    "    y_labels = []\n",
    "    for line in open(filepath):\n",
    "        if line.strip() != \"\":  # handle empty rows in file\n",
    "            row = line.strip().split(\",\")\n",
    "            x.append(list(map(float, row[:-1])))\n",
    "            y_labels.append(row[-1])\n",
    "\n",
    "    [classes, y] = np.unique(y_labels, return_inverse=True)\n",
    "\n",
    "    x = np.array(x)\n",
    "    y = np.array(y)\n",
    "    return (x, y, classes)\n",
    "\n",
    "\n",
    "def split_dataset(x, y, test_proportion, random_generator=default_rng()):\n",
    "    \"\"\" Split dataset into training and test sets, according to the given \n",
    "        test set proportion.\n",
    "    \n",
    "    Args:\n",
    "        x (np.ndarray): Instances, numpy array with shape (N,K)\n",
    "        y (np.ndarray): Class labels, numpy array with shape (N,)\n",
    "        test_proprotion (float): the desired proportion of test examples \n",
    "                                 (0.0-1.0)\n",
    "        random_generator (np.random.Generator): A random generator\n",
    "\n",
    "    Returns:\n",
    "        tuple: returns a tuple of (x_train, x_test, y_train, y_test) \n",
    "               - x_train (np.ndarray): Training instances shape (N_train, K)\n",
    "               - x_test (np.ndarray): Test instances shape (N_test, K)\n",
    "               - y_train (np.ndarray): Training labels, shape (N_train, )\n",
    "               - y_test (np.ndarray): Test labels, shape (N_train, )\n",
    "    \"\"\"\n",
    "\n",
    "    shuffled_indices = random_generator.permutation(len(x))\n",
    "    n_test = round(len(x) * test_proportion)\n",
    "    n_train = len(x) - n_test\n",
    "    x_train = x[shuffled_indices[:n_train]]\n",
    "    y_train = y[shuffled_indices[:n_train]]\n",
    "    x_test = x[shuffled_indices[n_train:]]\n",
    "    y_test = y[shuffled_indices[n_train:]]\n",
    "    return (x_train, x_test, y_train, y_test)\n",
    "\n",
    "\n",
    "(x, y, classes) = read_dataset(\"iris.data\")\n",
    "\n",
    "seed = 60012\n",
    "rg = default_rng(seed)\n",
    "x_train, x_test, y_train, y_test = split_dataset(x, y,\n",
    "                                                 test_proportion=0.2,\n",
    "                                                 random_generator=rg)\n",
    "print(x_train.shape)\n",
    "print(x_test.shape)\n"
   ]
  },
  {
   "cell_type": "markdown",
   "metadata": {
    "id": "2LNLsjjiwPJi"
   },
   "source": [
    "## K-NN Classifier\n",
    "\n",
    "In Lab 1, you have constructed a (one) Nearest Neighbour classifier.\n",
    "\n",
    "We will now try to generalise the nearest neighbour classifier as a **K-Nearest Neighours (K-NN)** classifier. For each test example, the classifier will predict the majority class label among the $K$ nearest training examples, again according to the Euclidean distance metric $d(x^{(i)}, x^{(q)})=\\sqrt{\\sum_f^F (x_f^{(i)} - x_f^{(q)})^2}$. If there is draw, choose one of the majority class labels arbitrarily, or at random.\n",
    "\n",
    "Complete the `predict()` method of the `KNNClassifier` class. Note that the class now takes an optional hyperparameter `k` in its constructor.\n"
   ]
  },
  {
   "cell_type": "code",
   "execution_count": 13,
   "metadata": {
    "id": "xtnx_HjTyA2N"
   },
   "outputs": [],
   "source": [
    "from collections import Counter\n",
    "\n",
    "\n",
    "class KNNClassifier:\n",
    "    def __init__(self, k=5):\n",
    "        \"\"\" K-NN Classifier.\n",
    "\n",
    "        Args:\n",
    "        k (int): Number of nearest neighbours. Defaults to 5.\n",
    "        \"\"\"\n",
    "        self.k = k\n",
    "        self.x = np.array([])\n",
    "        self.y = np.array([])\n",
    "\n",
    "    def fit(self, x, y):\n",
    "        \"\"\" Fit the training data to the classifier.\n",
    "\n",
    "        Args:\n",
    "        x (np.ndarray): Instances, numpy array with shape (N,K)\n",
    "        y (np.ndarray): Class labels, numpy array with shape (N,)\n",
    "        \"\"\"\n",
    "        self.x = x\n",
    "        self.y = y\n",
    "\n",
    "    def predict(self, x):\n",
    "        \"\"\" Perform prediction given some examples.\n",
    "\n",
    "        Args:\n",
    "        x (np.ndarray): Instances, numpy array with shape (N,K)\n",
    "\n",
    "        Returns:\n",
    "        y (np.ndarray): Predicted class labels, numpy array with shape (N,)\n",
    "        \"\"\"\n",
    "\n",
    "        prediction = []\n",
    "        for one_entry in x:\n",
    "            p = self.predict_one(one_entry)\n",
    "            prediction.append(p)\n",
    "        return np.array(prediction)\n",
    "\n",
    "    @staticmethod\n",
    "    def euclidean_distance(x1, x2):\n",
    "        return np.sqrt(np.sum(np.square(x1 - x2)))\n",
    "\n",
    "    def predict_one(self, x):\n",
    "        current_mins = [float('inf')] * self.k\n",
    "        current_argmins = [0] * self.k\n",
    "        for i, x2 in enumerate(self.x):\n",
    "            dist = self.euclidean_distance(x, x2)\n",
    "\n",
    "            # try to update current_mins and current_agrmins\n",
    "            self.update_mins_and_argmins(current_mins, current_argmins, dist, i)\n",
    "\n",
    "        prediction = self.count_vote(self.y, current_argmins)\n",
    "        return prediction\n",
    "\n",
    "    @staticmethod\n",
    "    def update_mins_and_argmins(dmins, argmins, d, i):\n",
    "        for idx, dist in enumerate(dmins):\n",
    "            if d < dist:\n",
    "                for index in range(len(dmins) - 1, idx, -1):\n",
    "                    dmins[index] = dmins[index - 1]\n",
    "                    argmins[index] = argmins[index - 1]\n",
    "                dmins[idx] = d\n",
    "                argmins[idx] = i\n",
    "                break\n",
    "        return\n",
    "\n",
    "    @staticmethod\n",
    "    def count_vote(y, current_argmins):\n",
    "        result = y[current_argmins]\n",
    "        return Counter(result).most_common()[0][0]\n"
   ]
  },
  {
   "cell_type": "code",
   "execution_count": 14,
   "metadata": {
    "colab": {
     "base_uri": "https://localhost:8080/"
    },
    "id": "JBpJ8EjVy-bi",
    "outputId": "23e7d40b-cf2a-4ae6-f7be-abcfc4e5fb76"
   },
   "outputs": [
    {
     "name": "stdout",
     "output_type": "stream",
     "text": [
      "[1 2 1 2 0 1 2 0 0 2 2 2 2 0 2 0 0 2 2 1 2 1 1 1 1 0 0 0 0 0]\n"
     ]
    }
   ],
   "source": [
    "nn_classifier = KNNClassifier(k=5)\n",
    "nn_classifier.fit(x_train, y_train)\n",
    "nn_predictions = nn_classifier.predict(x_test)\n",
    "print(nn_predictions)"
   ]
  },
  {
   "cell_type": "markdown",
   "metadata": {
    "id": "O4yZIOgepd2L"
   },
   "source": [
    "### Evaluation\n",
    "\n",
    "Now, let's evaluate the accuracy of our K-NN classifier. We will test K from 1 to 20. Again, you should be able to achieve very high accuracy."
   ]
  },
  {
   "cell_type": "code",
   "execution_count": 15,
   "metadata": {
    "id": "zfjzLLwUqDC-"
   },
   "outputs": [],
   "source": [
    "def compute_accuracy(y_gold, y_prediction):\n",
    "    \"\"\" Compute the accuracy given the ground truth and predictions\n",
    "\n",
    "    Args:\n",
    "    y_gold (np.ndarray): the correct ground truth/gold standard labels\n",
    "    y_prediction (np.ndarray): the predicted labels\n",
    "\n",
    "    Returns:\n",
    "    float : the accuracy\n",
    "    \"\"\"\n",
    "\n",
    "    assert len(y_gold) == len(y_prediction)\n",
    "\n",
    "    try:\n",
    "        return np.sum(y_gold == y_prediction) / len(y_gold)\n",
    "    except ZeroDivisionError:\n",
    "        return 0"
   ]
  },
  {
   "cell_type": "code",
   "execution_count": 16,
   "metadata": {
    "colab": {
     "base_uri": "https://localhost:8080/"
    },
    "id": "aWRWsYurz1om",
    "outputId": "6f6b151f-e22b-4863-b44d-5e27fb7dcddd"
   },
   "outputs": [
    {
     "name": "stdout",
     "output_type": "stream",
     "text": [
      "K=1: 0.9666666666666667\n",
      "K=2: 0.9666666666666667\n",
      "K=3: 1.0\n",
      "K=4: 1.0\n",
      "K=5: 1.0\n",
      "K=6: 1.0\n",
      "K=7: 0.9666666666666667\n",
      "K=8: 1.0\n",
      "K=9: 0.9666666666666667\n",
      "K=10: 1.0\n",
      "K=11: 1.0\n",
      "K=12: 1.0\n",
      "K=13: 0.9666666666666667\n",
      "K=14: 0.9666666666666667\n",
      "K=15: 0.9666666666666667\n",
      "K=16: 0.9666666666666667\n",
      "K=17: 0.9666666666666667\n",
      "K=18: 0.9666666666666667\n",
      "K=19: 0.9666666666666667\n",
      "K=20: 0.9666666666666667\n"
     ]
    }
   ],
   "source": [
    "for k in range(1, 21):\n",
    "    nn_classifier = KNNClassifier(k)\n",
    "    nn_classifier.fit(x_train, y_train)\n",
    "    nn_predictions = nn_classifier.predict(x_test)\n",
    "    accuracy = compute_accuracy(y_test, nn_predictions)\n",
    "    print(f\"K={k}: {accuracy}\")"
   ]
  },
  {
   "cell_type": "markdown",
   "metadata": {
    "id": "9z8I2TXaLepZ"
   },
   "source": [
    "## Distance Weighted K-NN Classifier\n",
    "\n",
    "Now, let us implement the **distance weighted** K-NN classifier as discussed in the lectures. \n",
    "Pleae complete the `predict()` method for the `WeightedKNNClassifier` class below.\n",
    "\n",
    "For each test example $x^{(q)}$, you will need to compute the weight $w^{(i)}_{q}$ for each training example $x^{(i)}$. \n",
    "\n",
    "Then for each class label, sum the weights of the $K$ nearest examples. Assign the test example to the class label with largest sum.\n",
    "\n",
    "The weight can be anything reasonable. For this tutorial, we will use the weight $w_{q}^{(i)}=\\frac{1}{d(x^{(i)}, x^{(q)})}$, where $d(x^{(i)}, x^{(q)})=\\sqrt{\\sum_f^F (x_f^{(i)} - x_f^{(q)})^2}$ is the Euclidean distance. \n"
   ]
  },
  {
   "cell_type": "code",
   "execution_count": 26,
   "metadata": {
    "id": "KTQ-cgA8LTFB"
   },
   "outputs": [],
   "source": [
    "class WeightedKNNClassifier:\n",
    "    def __init__(self, k=5):\n",
    "        \"\"\" K-NN Classifier.\n",
    "\n",
    "        Args:\n",
    "        k (int): Number of nearest neighbours. Defaults to 5.\n",
    "        \"\"\"\n",
    "        self.k = k\n",
    "        self.x = np.array([])\n",
    "        self.y = np.array([])\n",
    "\n",
    "    def fit(self, x, y):\n",
    "        \"\"\" Fit the training data to the classifier.\n",
    "\n",
    "        Args:\n",
    "        x (np.ndarray): Instances, numpy array with shape (N,K)\n",
    "        y (np.ndarray): Class labels, numpy array with shape (N,)\n",
    "        \"\"\"\n",
    "        self.x = x\n",
    "        self.y = y\n",
    "\n",
    "    def predict(self, x):\n",
    "        \"\"\" Perform prediction given some examples.\n",
    "\n",
    "        Args:\n",
    "        x (np.ndarray): Instances, numpy array with shape (N,K)\n",
    "\n",
    "        Returns:\n",
    "        y (np.ndarray): Predicted class labels, numpy array with shape (N,)\n",
    "        \"\"\"\n",
    "\n",
    "        # TODO: Implement a distance weighted K-NN classifier\n",
    "        prediction = []\n",
    "        for one_entry in x:\n",
    "            p = self.predict_one(one_entry)\n",
    "            prediction.append(p)\n",
    "        return np.array(prediction)\n",
    "\n",
    "    def predict_one(self, x):\n",
    "        current_mins = [float('inf')] * self.k\n",
    "        current_argmins = [0] * self.k\n",
    "        for i, x2 in enumerate(self.x):\n",
    "            dist = KNNClassifier.euclidean_distance(x, x2)\n",
    "\n",
    "            # try to update current_mins and current_agrmins\n",
    "            KNNClassifier.update_mins_and_argmins(current_mins, current_argmins, dist, i)\n",
    "\n",
    "        prediction = self.count_vote(self.y, current_argmins, current_mins)\n",
    "        return prediction\n",
    "\n",
    "    @staticmethod\n",
    "    def count_vote(y, argmins, dmins):\n",
    "        result = y[argmins]\n",
    "        weighted_result = {}\n",
    "        for i in range(len(result)):\n",
    "            weighted_result[i] = weighted_result.setdefault(i, 0) + 1 / dmins[i]\n",
    "\n",
    "        print(weighted_result)\n",
    "        return max(weighted_result)\n",
    "\n"
   ]
  },
  {
   "cell_type": "code",
   "execution_count": 25,
   "metadata": {
    "colab": {
     "base_uri": "https://localhost:8080/"
    },
    "id": "Gjm_y7NnLTFP",
    "outputId": "6774a76b-5e2e-4d84-98c0-086ba31404c3"
   },
   "outputs": [
    {
     "name": "stdout",
     "output_type": "stream",
     "text": [
      "{0: 7.071067811865453, 1: 4.08248290463864, 2: 3.7796447300922775, 3: 3.162277660168383, 4: 3.162277660168383}\n",
      "{0: 4.082482904638627, 1: 3.0151134457776343, 2: 2.581988897471612, 3: 2.3570226039551567, 4: 2.0000000000000013}\n",
      "{0: 4.082482904638633, 1: 3.7796447300922758, 2: 3.7796447300922704, 3: 3.3333333333333317, 4: 3.162277660168379}\n",
      "{0: 2.4253562503633295, 1: 1.1322770341445958, 2: 1.0783277320343843, 3: 1.0721125348377945, 4: 0.9759000729485331}\n",
      "{0: 7.071067811865474, 1: 4.0824829046386295, 2: 3.3333333333333353, 3: 3.015113445777631, 4: 2.886751345948128}\n",
      "{0: 7.071067811865485, 1: 3.333333333333332, 2: 3.333333333333332, 3: 2.357022603955158, 4: 2.357022603955158}\n",
      "{0: 3.7796447300922678, 1: 2.1821789023599227, 2: 2.132007163556103, 3: 1.9611613513818407, 4: 1.8569533817705188}\n",
      "{0: 7.071067811865486, 1: 4.082482904638627, 2: 3.7796447300922726, 3: 3.5355339059327364, 4: 3.3333333333333317}\n",
      "{0: 7.071067811865456, 1: 5.773502691896245, 2: 5.773502691896245, 3: 4.082482904638627, 4: 3.7796447300922695}\n",
      "{0: 7.071067811865485, 1: 2.773500981126147, 2: 2.581988897471612, 3: 2.5819888974716116, 4: 2.357022603955159}\n",
      "{0: 4.472135954999572, 1: 3.162277660168382, 2: 3.162277660168379, 3: 2.886751345948124, 4: 2.581988897471611}\n",
      "{0: 1.9611613513818407, 1: 1.9611613513818407, 2: 1.9245008972987536, 3: 1.5617376188860606, 4: 1.373605639486891}\n",
      "{0: 5.773502691896262, 1: 4.082482904638621, 2: 3.535533905932734, 3: 2.581988897471612, 4: 2.357022603955159}\n",
      "{0: 7.071067811865468, 1: 7.071067811865453, 2: 7.071067811865453, 3: 5.773502691896247, 4: 4.47213595499958}\n",
      "{0: 4.082482904638642, 1: 3.333333333333332, 2: 1.7960530202677485, 3: 1.6222142113076257, 4: 1.6012815380508723}\n",
      "{0: inf, 1: inf, 2: 5.773502691896254, 3: 5.773502691896246, 4: 5.000000000000002}\n",
      "{0: 4.999999999999996, 1: 4.472135954999594, 2: 3.3333333333333384, 3: 3.1622776601683857, 4: 3.162277660168377}\n",
      "{0: 4.082482904638623, 1: 2.773500981126142, 2: 2.1320071635561026, 3: 1.9611613513818398, 4: 1.9245008972987514}\n",
      "{0: 1.796053020267749, 1: 1.7149858514250886, 2: 1.5075567228888174, 3: 1.4002800840280092, 4: 1.360827634879544}\n",
      "{0: 3.162277660168379, 1: 2.6726124191242446, 2: 2.4253562503633286, 3: 2.3570226039551576, 4: 2.3570226039551576}\n",
      "{0: 3.162277660168383, 1: 3.162277660168383, 2: 3.0151134457776374, 3: 2.1821789023599227, 4: 1.9999999999999982}\n",
      "{0: 3.3333333333333304, 1: 2.5819888974716108, 2: 2.2941573387056153, 3: 2.182178902359926, 4: 1.9611613513818402}\n",
      "{0: 7.071067811865453, 1: 4.0824829046386295, 2: 2.357022603955156, 3: 2.294157338705618, 4: 2.2941573387056153}\n",
      "{0: 2.773500981126146, 1: 2.1821789023599245, 2: 1.4907119849998598, 3: 1.3867504905630728, 4: 1.212678125181665}\n",
      "{0: 3.7796447300922713, 1: 3.015113445777637, 2: 2.2941573387056184, 3: 2.1821789023599227, 4: 1.9245008972987507}\n",
      "{0: 4.082482904638627, 1: 2.886751345948128, 2: 2.0851441405707485, 3: 1.9245008972987532, 4: 1.6222142113076259}\n",
      "{0: 7.071067811865457, 1: 4.082482904638628, 2: 3.7796447300922695, 3: 3.7796447300922686, 4: 3.7796447300922686}\n",
      "{0: 3.0151134457776374, 1: 2.88675134594813, 2: 2.7735009811261455, 3: 2.6726124191242397, 4: 2.5819888974716076}\n",
      "{0: 7.071067811865461, 1: 4.082482904638627, 2: 3.7796447300922726, 3: 3.333333333333333, 4: 3.3333333333333317}\n",
      "{0: 1.6012815380508714, 1: 1.4002800840280094, 2: 1.2216944435630517, 3: 1.1952286093343933, 4: 1.0976425998969033}\n",
      "[4 4 4 4 4 4 4 4 4 4 4 4 4 4 4 4 4 4 4 4 4 4 4 4 4 4 4 4 4 4]\n"
     ]
    },
    {
     "name": "stderr",
     "output_type": "stream",
     "text": [
      "C:\\Users\\Annnn\\AppData\\Local\\Temp/ipykernel_22428/977484013.py:56: RuntimeWarning: divide by zero encountered in double_scalars\n",
      "  weighted_result[i] = weighted_result.setdefault(i, 0) + 1 / dmins[i]\n"
     ]
    }
   ],
   "source": [
    "nn_classifier = WeightedKNNClassifier(k=5)\n",
    "nn_classifier.fit(x_train, y_train)\n",
    "nn_predictions = nn_classifier.predict(x_test)\n",
    "print(nn_predictions)"
   ]
  },
  {
   "cell_type": "markdown",
   "metadata": {
    "id": "tCfaQ5WmgqSa"
   },
   "source": [
    "### Evaluation\n",
    "\n",
    "Again, we will evaluate the accuracy of the distance weighted K-NN classifier for K=1 to 20. As this is a small and relatively easy dataset, you should get similar results as with the simple K-NN classifier.\n",
    "\n",
    "You might observe the benefits of the distance weighted K-NN classifier better when training on larger and noisier datasets."
   ]
  },
  {
   "cell_type": "code",
   "execution_count": 27,
   "metadata": {
    "colab": {
     "base_uri": "https://localhost:8080/"
    },
    "id": "bPr1YEfJ3g8Z",
    "outputId": "894a4459-d9d0-413e-d01d-f209b2b48385"
   },
   "outputs": [
    {
     "name": "stdout",
     "output_type": "stream",
     "text": [
      "K=1: 0.9666666666666667\n",
      "K=2: 0.9666666666666667\n",
      "K=3: 1.0\n",
      "K=4: 1.0\n",
      "K=5: 1.0\n",
      "K=6: 1.0\n",
      "K=7: 0.9666666666666667\n",
      "K=8: 1.0\n",
      "K=9: 0.9666666666666667\n",
      "K=10: 1.0\n",
      "K=11: 1.0\n",
      "K=12: 1.0\n",
      "K=13: 0.9666666666666667\n",
      "K=14: 0.9666666666666667\n",
      "K=15: 0.9666666666666667\n",
      "K=16: 0.9666666666666667\n",
      "K=17: 0.9666666666666667\n",
      "K=18: 0.9666666666666667\n",
      "K=19: 0.9666666666666667\n",
      "K=20: 0.9666666666666667\n"
     ]
    }
   ],
   "source": [
    "for k in range(1, 21):\n",
    "    nn_classifier = KNNClassifier(k)\n",
    "    nn_classifier.fit(x_train, y_train)\n",
    "    nn_predictions = nn_classifier.predict(x_test)\n",
    "    accuracy = compute_accuracy(y_test, nn_predictions)\n",
    "    print(f\"K={k}: {accuracy}\")"
   ]
  },
  {
   "cell_type": "markdown",
   "metadata": {
    "id": "NNMajcyH7Vv5"
   },
   "source": [
    "## Summary\n",
    "\n",
    "You have built a K-Nearest Neighbour classifier (and the distance-weighted variant)! Because the Iris dataset is a small and simple dataset, you may only observe a small improvement in accuracy (if any) compared to a simple one-nearest neighbour classifier.\n",
    "\n",
    "And that is it for this week's lab tutorials. We will not have a decision tree tutorial for this course. The coursework itself will contain a short guide to help you think about implementing your own decision trees.\n",
    "\n",
    "In the next lab tutorial, you will be implementing different evaluation metrics and performing cross-validation.\n"
   ]
  }
 ],
 "metadata": {
  "colab": {
   "collapsed_sections": [],
   "include_colab_link": true,
   "name": "lab2.ipynb",
   "provenance": [],
   "toc_visible": true
  },
  "kernelspec": {
   "display_name": "Python 3 (ipykernel)",
   "language": "python",
   "name": "python3"
  },
  "language_info": {
   "codemirror_mode": {
    "name": "ipython",
    "version": 3
   },
   "file_extension": ".py",
   "mimetype": "text/x-python",
   "name": "python",
   "nbconvert_exporter": "python",
   "pygments_lexer": "ipython3",
   "version": "3.9.5"
  }
 },
 "nbformat": 4,
 "nbformat_minor": 1
}